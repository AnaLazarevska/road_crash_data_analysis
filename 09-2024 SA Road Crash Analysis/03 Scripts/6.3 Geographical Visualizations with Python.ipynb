{
 "cells": [
  {
   "cell_type": "markdown",
   "id": "e56d693b-bec6-4104-94a1-0a9f00c43dca",
   "metadata": {},
   "source": [
    "# 6.3 Geographical Visualizations with Python"
   ]
  },
  {
   "cell_type": "markdown",
   "id": "2080d913-806c-4f10-b547-333238aaef08",
   "metadata": {},
   "source": [
    "## Contents:\n",
    "\n",
    "1. Import Libraries\n",
    "2. Import Data\n",
    "4. Data Wrangling\n",
    "5. Consistency Checks\n",
    "6. Plotting Choropleth"
   ]
  },
  {
   "cell_type": "markdown",
   "id": "efb5abd2-b3da-48d2-8c47-9b45f13aa3b8",
   "metadata": {},
   "source": [
    "## 1. Import Libraries"
   ]
  },
  {
   "cell_type": "code",
   "execution_count": 5,
   "id": "770892bf-1c5c-46a5-ba50-a46c36af0b77",
   "metadata": {},
   "outputs": [],
   "source": [
    "import pandas as pd\n",
    "import numpy as np\n",
    "import seaborn as sns\n",
    "import matplotlib\n",
    "import os\n",
    "import folium\n",
    "import json"
   ]
  },
  {
   "cell_type": "markdown",
   "id": "d03b1b2b-d305-48bb-a1f4-5f646870dcf0",
   "metadata": {},
   "source": [
    "## 2. Import Data"
   ]
  },
  {
   "cell_type": "code",
   "execution_count": 7,
   "id": "ae92efa9-1f64-4711-a07f-77d7767c1966",
   "metadata": {},
   "outputs": [],
   "source": [
    "# create path for importing files\n",
    "\n",
    "path = r'/Users/analazarevska/Documents/CAREER FOUNDRY/Data Analytics Program/Data Immersion/A6, Advanced Analythics & Dashboard Design/Achievement 6/09-2024 SA Road Crash Analysis'\n",
    "\n",
    "# import json file for the South Australian suburbs\n",
    "\n",
    "suburbs_file = os.path.join(path, '02 Data', 'Original Data', 'Suburbs_GDA2020.geojson')\n",
    "\n",
    "# import merged dataframe for analysis\n",
    "\n",
    "df = pd.read_csv(os.path.join(path, '02 Data', 'Prepared Data', 'merged_df.csv'))"
   ]
  },
  {
   "cell_type": "markdown",
   "id": "c8abafa8-d0e4-4ce5-b13a-26bca4cfee55",
   "metadata": {},
   "source": [
    "## 3. Data Wrangling"
   ]
  },
  {
   "cell_type": "code",
   "execution_count": 9,
   "id": "656c2517-6b0f-4d04-ac32-7655d98536e3",
   "metadata": {},
   "outputs": [],
   "source": [
    "# propt matplotlib visuals to appear in the notebook \n",
    "\n",
    "%matplotlib inline"
   ]
  },
  {
   "cell_type": "code",
   "execution_count": 10,
   "id": "f6999c99-c1ae-4c83-9666-811831ca2dbe",
   "metadata": {},
   "outputs": [],
   "source": [
    "# drop Unnamed: 0 column\n",
    "\n",
    "df.drop(columns='Unnamed: 0', inplace=True)"
   ]
  },
  {
   "cell_type": "code",
   "execution_count": 11,
   "id": "5686f168-c1b6-408f-9546-759d4ac945de",
   "metadata": {},
   "outputs": [
    {
     "data": {
      "text/html": [
       "<div>\n",
       "<style scoped>\n",
       "    .dataframe tbody tr th:only-of-type {\n",
       "        vertical-align: middle;\n",
       "    }\n",
       "\n",
       "    .dataframe tbody tr th {\n",
       "        vertical-align: top;\n",
       "    }\n",
       "\n",
       "    .dataframe thead th {\n",
       "        text-align: right;\n",
       "    }\n",
       "</style>\n",
       "<table border=\"1\" class=\"dataframe\">\n",
       "  <thead>\n",
       "    <tr style=\"text-align: right;\">\n",
       "      <th></th>\n",
       "      <th>REPORT_ID</th>\n",
       "      <th>crash_stats_area</th>\n",
       "      <th>crash_suburb</th>\n",
       "      <th>crash_postcode</th>\n",
       "      <th>total_units</th>\n",
       "      <th>total_casualties</th>\n",
       "      <th>total_fatalities</th>\n",
       "      <th>total_serious_injuries</th>\n",
       "      <th>total_minor_injuries</th>\n",
       "      <th>crash_month</th>\n",
       "      <th>...</th>\n",
       "      <th>dui_involved</th>\n",
       "      <th>drugs_involved</th>\n",
       "      <th>accloc_x</th>\n",
       "      <th>accloc_y</th>\n",
       "      <th>unit_type</th>\n",
       "      <th>unit_registration_year</th>\n",
       "      <th>unit_controller_sex</th>\n",
       "      <th>unit_controller_age</th>\n",
       "      <th>unit_controller_licence_type</th>\n",
       "      <th>unit_number_of_occupants</th>\n",
       "    </tr>\n",
       "  </thead>\n",
       "  <tbody>\n",
       "    <tr>\n",
       "      <th>0</th>\n",
       "      <td>2019-1-16/08/2024</td>\n",
       "      <td>2 Metropolitan</td>\n",
       "      <td>Hampstead Gardens</td>\n",
       "      <td>5086</td>\n",
       "      <td>2</td>\n",
       "      <td>0</td>\n",
       "      <td>0</td>\n",
       "      <td>0</td>\n",
       "      <td>0</td>\n",
       "      <td>June</td>\n",
       "      <td>...</td>\n",
       "      <td>N</td>\n",
       "      <td>N</td>\n",
       "      <td>1331810.03</td>\n",
       "      <td>1676603.26</td>\n",
       "      <td>Station Wagon</td>\n",
       "      <td>1998.0</td>\n",
       "      <td>Female</td>\n",
       "      <td>85.0</td>\n",
       "      <td>Full</td>\n",
       "      <td>1.0</td>\n",
       "    </tr>\n",
       "    <tr>\n",
       "      <th>1</th>\n",
       "      <td>2019-2-16/08/2024</td>\n",
       "      <td>2 Metropolitan</td>\n",
       "      <td>Dry Creek</td>\n",
       "      <td>5094</td>\n",
       "      <td>2</td>\n",
       "      <td>0</td>\n",
       "      <td>0</td>\n",
       "      <td>0</td>\n",
       "      <td>0</td>\n",
       "      <td>January</td>\n",
       "      <td>...</td>\n",
       "      <td>N</td>\n",
       "      <td>N</td>\n",
       "      <td>1328376.20</td>\n",
       "      <td>1682942.63</td>\n",
       "      <td>Motor Cars - Sedan</td>\n",
       "      <td>2002.0</td>\n",
       "      <td>Female</td>\n",
       "      <td>31.0</td>\n",
       "      <td>Full</td>\n",
       "      <td>1.0</td>\n",
       "    </tr>\n",
       "    <tr>\n",
       "      <th>2</th>\n",
       "      <td>2019-3-16/08/2024</td>\n",
       "      <td>2 Metropolitan</td>\n",
       "      <td>Mile End</td>\n",
       "      <td>5031</td>\n",
       "      <td>2</td>\n",
       "      <td>1</td>\n",
       "      <td>0</td>\n",
       "      <td>0</td>\n",
       "      <td>1</td>\n",
       "      <td>January</td>\n",
       "      <td>...</td>\n",
       "      <td>N</td>\n",
       "      <td>N</td>\n",
       "      <td>1325819.68</td>\n",
       "      <td>1670994.26</td>\n",
       "      <td>Motor Vehicle - Type Unknown</td>\n",
       "      <td>1937.0</td>\n",
       "      <td>Unknown</td>\n",
       "      <td>33.0</td>\n",
       "      <td>Unknown</td>\n",
       "      <td>1.0</td>\n",
       "    </tr>\n",
       "    <tr>\n",
       "      <th>3</th>\n",
       "      <td>2019-4-16/08/2024</td>\n",
       "      <td>2 Metropolitan</td>\n",
       "      <td>Paralowie</td>\n",
       "      <td>5108</td>\n",
       "      <td>2</td>\n",
       "      <td>1</td>\n",
       "      <td>0</td>\n",
       "      <td>1</td>\n",
       "      <td>0</td>\n",
       "      <td>January</td>\n",
       "      <td>...</td>\n",
       "      <td>N</td>\n",
       "      <td>N</td>\n",
       "      <td>1328320.60</td>\n",
       "      <td>1690237.08</td>\n",
       "      <td>Motor Cycle</td>\n",
       "      <td>2015.0</td>\n",
       "      <td>Male</td>\n",
       "      <td>21.0</td>\n",
       "      <td>Learners</td>\n",
       "      <td>1.0</td>\n",
       "    </tr>\n",
       "    <tr>\n",
       "      <th>4</th>\n",
       "      <td>2019-5-16/08/2024</td>\n",
       "      <td>2 Metropolitan</td>\n",
       "      <td>Mount Barker</td>\n",
       "      <td>5251</td>\n",
       "      <td>2</td>\n",
       "      <td>0</td>\n",
       "      <td>0</td>\n",
       "      <td>0</td>\n",
       "      <td>0</td>\n",
       "      <td>January</td>\n",
       "      <td>...</td>\n",
       "      <td>N</td>\n",
       "      <td>N</td>\n",
       "      <td>1353279.99</td>\n",
       "      <td>1655645.15</td>\n",
       "      <td>NaN</td>\n",
       "      <td>NaN</td>\n",
       "      <td>NaN</td>\n",
       "      <td>NaN</td>\n",
       "      <td>NaN</td>\n",
       "      <td>NaN</td>\n",
       "    </tr>\n",
       "  </tbody>\n",
       "</table>\n",
       "<p>5 rows × 27 columns</p>\n",
       "</div>"
      ],
      "text/plain": [
       "           REPORT_ID crash_stats_area       crash_suburb  crash_postcode  \\\n",
       "0  2019-1-16/08/2024   2 Metropolitan  Hampstead Gardens            5086   \n",
       "1  2019-2-16/08/2024   2 Metropolitan          Dry Creek            5094   \n",
       "2  2019-3-16/08/2024   2 Metropolitan           Mile End            5031   \n",
       "3  2019-4-16/08/2024   2 Metropolitan          Paralowie            5108   \n",
       "4  2019-5-16/08/2024   2 Metropolitan       Mount Barker            5251   \n",
       "\n",
       "   total_units  total_casualties  total_fatalities  total_serious_injuries  \\\n",
       "0            2                 0                 0                       0   \n",
       "1            2                 0                 0                       0   \n",
       "2            2                 1                 0                       0   \n",
       "3            2                 1                 0                       1   \n",
       "4            2                 0                 0                       0   \n",
       "\n",
       "   total_minor_injuries crash_month  ... dui_involved drugs_involved  \\\n",
       "0                     0        June  ...            N              N   \n",
       "1                     0     January  ...            N              N   \n",
       "2                     1     January  ...            N              N   \n",
       "3                     0     January  ...            N              N   \n",
       "4                     0     January  ...            N              N   \n",
       "\n",
       "     accloc_x    accloc_y                     unit_type  \\\n",
       "0  1331810.03  1676603.26                 Station Wagon   \n",
       "1  1328376.20  1682942.63            Motor Cars - Sedan   \n",
       "2  1325819.68  1670994.26  Motor Vehicle - Type Unknown   \n",
       "3  1328320.60  1690237.08                   Motor Cycle   \n",
       "4  1353279.99  1655645.15                           NaN   \n",
       "\n",
       "  unit_registration_year  unit_controller_sex unit_controller_age  \\\n",
       "0                 1998.0               Female                85.0   \n",
       "1                 2002.0               Female                31.0   \n",
       "2                 1937.0              Unknown                33.0   \n",
       "3                 2015.0                 Male                21.0   \n",
       "4                    NaN                  NaN                 NaN   \n",
       "\n",
       "  unit_controller_licence_type  unit_number_of_occupants  \n",
       "0                         Full                       1.0  \n",
       "1                         Full                       1.0  \n",
       "2                      Unknown                       1.0  \n",
       "3                     Learners                       1.0  \n",
       "4                          NaN                       NaN  \n",
       "\n",
       "[5 rows x 27 columns]"
      ]
     },
     "execution_count": 11,
     "metadata": {},
     "output_type": "execute_result"
    }
   ],
   "source": [
    "df.head()"
   ]
  },
  {
   "cell_type": "code",
   "execution_count": 12,
   "id": "18b31dd9-224f-411b-8712-5f201f74b0a1",
   "metadata": {},
   "outputs": [],
   "source": [
    "# create list of needed columns\n",
    "\n",
    "columns = ['crash_suburb', 'total_units', 'total_casualties', 'total_fatalities']\n",
    "\n",
    "# create a subset\n",
    "\n",
    "suburb_rec = df[columns]"
   ]
  },
  {
   "cell_type": "code",
   "execution_count": 13,
   "id": "37f7a1fd-7c95-4422-ae6b-be1d4e0c685c",
   "metadata": {},
   "outputs": [
    {
     "data": {
      "text/html": [
       "<div>\n",
       "<style scoped>\n",
       "    .dataframe tbody tr th:only-of-type {\n",
       "        vertical-align: middle;\n",
       "    }\n",
       "\n",
       "    .dataframe tbody tr th {\n",
       "        vertical-align: top;\n",
       "    }\n",
       "\n",
       "    .dataframe thead th {\n",
       "        text-align: right;\n",
       "    }\n",
       "</style>\n",
       "<table border=\"1\" class=\"dataframe\">\n",
       "  <thead>\n",
       "    <tr style=\"text-align: right;\">\n",
       "      <th></th>\n",
       "      <th>crash_suburb</th>\n",
       "      <th>total_units</th>\n",
       "      <th>total_casualties</th>\n",
       "      <th>total_fatalities</th>\n",
       "    </tr>\n",
       "  </thead>\n",
       "  <tbody>\n",
       "    <tr>\n",
       "      <th>0</th>\n",
       "      <td>Hampstead Gardens</td>\n",
       "      <td>2</td>\n",
       "      <td>0</td>\n",
       "      <td>0</td>\n",
       "    </tr>\n",
       "    <tr>\n",
       "      <th>1</th>\n",
       "      <td>Dry Creek</td>\n",
       "      <td>2</td>\n",
       "      <td>0</td>\n",
       "      <td>0</td>\n",
       "    </tr>\n",
       "    <tr>\n",
       "      <th>2</th>\n",
       "      <td>Mile End</td>\n",
       "      <td>2</td>\n",
       "      <td>1</td>\n",
       "      <td>0</td>\n",
       "    </tr>\n",
       "    <tr>\n",
       "      <th>3</th>\n",
       "      <td>Paralowie</td>\n",
       "      <td>2</td>\n",
       "      <td>1</td>\n",
       "      <td>0</td>\n",
       "    </tr>\n",
       "    <tr>\n",
       "      <th>4</th>\n",
       "      <td>Mount Barker</td>\n",
       "      <td>2</td>\n",
       "      <td>0</td>\n",
       "      <td>0</td>\n",
       "    </tr>\n",
       "  </tbody>\n",
       "</table>\n",
       "</div>"
      ],
      "text/plain": [
       "        crash_suburb  total_units  total_casualties  total_fatalities\n",
       "0  Hampstead Gardens            2                 0                 0\n",
       "1          Dry Creek            2                 0                 0\n",
       "2           Mile End            2                 1                 0\n",
       "3          Paralowie            2                 1                 0\n",
       "4       Mount Barker            2                 0                 0"
      ]
     },
     "execution_count": 13,
     "metadata": {},
     "output_type": "execute_result"
    }
   ],
   "source": [
    "suburb_rec.head()"
   ]
  },
  {
   "cell_type": "code",
   "execution_count": 14,
   "id": "0ee38985-1766-4e61-8379-13c25d66facb",
   "metadata": {},
   "outputs": [],
   "source": [
    "# change values to uppercase to match the json file\n",
    "\n",
    "suburb_rec.loc[:, 'crash_suburb'] = suburb_rec['crash_suburb'].str.upper()"
   ]
  },
  {
   "cell_type": "code",
   "execution_count": 15,
   "id": "b30aee38-6acc-4f8d-a7f5-4cff7cad76b6",
   "metadata": {},
   "outputs": [],
   "source": [
    "# create column for total casualties and total units per suburb\n",
    "\n",
    "suburb_rec = suburb_rec.assign(\n",
    "    sum_casualties=suburb_rec.groupby('crash_suburb')['total_casualties'].transform('sum'),\n",
    "    sum_units=suburb_rec.groupby('crash_suburb')['total_units'].transform('sum')\n",
    ")"
   ]
  },
  {
   "cell_type": "code",
   "execution_count": 16,
   "id": "34419e9a-0c12-4642-a09f-5b388cf8f695",
   "metadata": {},
   "outputs": [
    {
     "data": {
      "text/html": [
       "<div>\n",
       "<style scoped>\n",
       "    .dataframe tbody tr th:only-of-type {\n",
       "        vertical-align: middle;\n",
       "    }\n",
       "\n",
       "    .dataframe tbody tr th {\n",
       "        vertical-align: top;\n",
       "    }\n",
       "\n",
       "    .dataframe thead th {\n",
       "        text-align: right;\n",
       "    }\n",
       "</style>\n",
       "<table border=\"1\" class=\"dataframe\">\n",
       "  <thead>\n",
       "    <tr style=\"text-align: right;\">\n",
       "      <th></th>\n",
       "      <th>crash_suburb</th>\n",
       "      <th>total_units</th>\n",
       "      <th>total_casualties</th>\n",
       "      <th>total_fatalities</th>\n",
       "      <th>sum_casualties</th>\n",
       "      <th>sum_units</th>\n",
       "    </tr>\n",
       "  </thead>\n",
       "  <tbody>\n",
       "    <tr>\n",
       "      <th>0</th>\n",
       "      <td>HAMPSTEAD GARDENS</td>\n",
       "      <td>2</td>\n",
       "      <td>0</td>\n",
       "      <td>0</td>\n",
       "      <td>31</td>\n",
       "      <td>223</td>\n",
       "    </tr>\n",
       "    <tr>\n",
       "      <th>1</th>\n",
       "      <td>DRY CREEK</td>\n",
       "      <td>2</td>\n",
       "      <td>0</td>\n",
       "      <td>0</td>\n",
       "      <td>96</td>\n",
       "      <td>636</td>\n",
       "    </tr>\n",
       "    <tr>\n",
       "      <th>2</th>\n",
       "      <td>MILE END</td>\n",
       "      <td>2</td>\n",
       "      <td>1</td>\n",
       "      <td>0</td>\n",
       "      <td>77</td>\n",
       "      <td>465</td>\n",
       "    </tr>\n",
       "    <tr>\n",
       "      <th>3</th>\n",
       "      <td>PARALOWIE</td>\n",
       "      <td>2</td>\n",
       "      <td>1</td>\n",
       "      <td>0</td>\n",
       "      <td>96</td>\n",
       "      <td>557</td>\n",
       "    </tr>\n",
       "    <tr>\n",
       "      <th>4</th>\n",
       "      <td>MOUNT BARKER</td>\n",
       "      <td>2</td>\n",
       "      <td>0</td>\n",
       "      <td>0</td>\n",
       "      <td>192</td>\n",
       "      <td>974</td>\n",
       "    </tr>\n",
       "  </tbody>\n",
       "</table>\n",
       "</div>"
      ],
      "text/plain": [
       "        crash_suburb  total_units  total_casualties  total_fatalities  \\\n",
       "0  HAMPSTEAD GARDENS            2                 0                 0   \n",
       "1          DRY CREEK            2                 0                 0   \n",
       "2           MILE END            2                 1                 0   \n",
       "3          PARALOWIE            2                 1                 0   \n",
       "4       MOUNT BARKER            2                 0                 0   \n",
       "\n",
       "   sum_casualties  sum_units  \n",
       "0              31        223  \n",
       "1              96        636  \n",
       "2              77        465  \n",
       "3              96        557  \n",
       "4             192        974  "
      ]
     },
     "execution_count": 16,
     "metadata": {},
     "output_type": "execute_result"
    }
   ],
   "source": [
    "suburb_rec.head()"
   ]
  },
  {
   "cell_type": "markdown",
   "id": "81316552-3aa1-4a97-9229-f7b6c9d54c31",
   "metadata": {},
   "source": [
    "## 4. Consistency Checks"
   ]
  },
  {
   "cell_type": "code",
   "execution_count": 18,
   "id": "13824138-0ce7-4423-b77f-a2dd121220e3",
   "metadata": {},
   "outputs": [
    {
     "data": {
      "text/plain": [
       "crash_suburb        0\n",
       "total_units         0\n",
       "total_casualties    0\n",
       "total_fatalities    0\n",
       "sum_casualties      0\n",
       "sum_units           0\n",
       "dtype: int64"
      ]
     },
     "execution_count": 18,
     "metadata": {},
     "output_type": "execute_result"
    }
   ],
   "source": [
    "# check for nan values\n",
    "\n",
    "suburb_rec.isnull().sum()"
   ]
  },
  {
   "cell_type": "code",
   "execution_count": 19,
   "id": "ab4a6907-6725-4a71-b99b-d758b7d560f8",
   "metadata": {},
   "outputs": [],
   "source": [
    "# drop the rows with nan values\n",
    "\n",
    "suburb_rec = suburb_rec.dropna()"
   ]
  },
  {
   "cell_type": "code",
   "execution_count": 20,
   "id": "ff2bd537-7bc7-497e-b0d7-2720ae6a971c",
   "metadata": {},
   "outputs": [],
   "source": [
    "# convert values to integers\n",
    "\n",
    "suburb_rec[['total_units', 'total_casualties', 'total_fatalities', 'sum_casualties', 'sum_units']] = suburb_rec[['total_units', 'total_casualties', 'total_fatalities', 'sum_casualties', 'sum_units']].astype(int)"
   ]
  },
  {
   "cell_type": "code",
   "execution_count": 21,
   "id": "0e081f2e-5330-4e8b-bec8-f90f7a9d0456",
   "metadata": {},
   "outputs": [
    {
     "data": {
      "text/plain": [
       "<Axes: xlabel='sum_casualties', ylabel='Count'>"
      ]
     },
     "execution_count": 21,
     "metadata": {},
     "output_type": "execute_result"
    },
    {
     "data": {
      "image/png": "[encoded data removed]",
      "text/plain": [
       "<Figure size 640x480 with 1 Axes>"
      ]
     },
     "metadata": {},
     "output_type": "display_data"
    }
   ],
   "source": [
    "# check for extreme values\n",
    "\n",
    "sns.histplot(suburb_rec['sum_casualties'], bins=20, kde = True)"
   ]
  },
  {
   "cell_type": "code",
   "execution_count": 22,
   "id": "f8a78383-26ac-45ae-9d76-67b99341231b",
   "metadata": {},
   "outputs": [],
   "source": [
    "# keep only non-zero values\n",
    "\n",
    "suburb_rec = suburb_rec[suburb_rec['sum_casualties'] >= 1]"
   ]
  },
  {
   "cell_type": "markdown",
   "id": "0c829470-0367-400b-8374-53e2cd0e7911",
   "metadata": {},
   "source": [
    "## 5. Plotting Choropleth"
   ]
  },
  {
   "cell_type": "code",
   "execution_count": 24,
   "id": "76436a44-4697-49ab-a7f3-aea4306cecbf",
   "metadata": {},
   "outputs": [
    {
     "data": {
      "text/html": [
       "<div>\n",
       "<style scoped>\n",
       "    .dataframe tbody tr th:only-of-type {\n",
       "        vertical-align: middle;\n",
       "    }\n",
       "\n",
       "    .dataframe tbody tr th {\n",
       "        vertical-align: top;\n",
       "    }\n",
       "\n",
       "    .dataframe thead th {\n",
       "        text-align: right;\n",
       "    }\n",
       "</style>\n",
       "<table border=\"1\" class=\"dataframe\">\n",
       "  <thead>\n",
       "    <tr style=\"text-align: right;\">\n",
       "      <th></th>\n",
       "      <th>crash_suburb</th>\n",
       "      <th>sum_casualties</th>\n",
       "    </tr>\n",
       "  </thead>\n",
       "  <tbody>\n",
       "    <tr>\n",
       "      <th>0</th>\n",
       "      <td>HAMPSTEAD GARDENS</td>\n",
       "      <td>31</td>\n",
       "    </tr>\n",
       "    <tr>\n",
       "      <th>1</th>\n",
       "      <td>DRY CREEK</td>\n",
       "      <td>96</td>\n",
       "    </tr>\n",
       "    <tr>\n",
       "      <th>2</th>\n",
       "      <td>MILE END</td>\n",
       "      <td>77</td>\n",
       "    </tr>\n",
       "    <tr>\n",
       "      <th>3</th>\n",
       "      <td>PARALOWIE</td>\n",
       "      <td>96</td>\n",
       "    </tr>\n",
       "    <tr>\n",
       "      <th>4</th>\n",
       "      <td>MOUNT BARKER</td>\n",
       "      <td>192</td>\n",
       "    </tr>\n",
       "  </tbody>\n",
       "</table>\n",
       "</div>"
      ],
      "text/plain": [
       "        crash_suburb  sum_casualties\n",
       "0  HAMPSTEAD GARDENS              31\n",
       "1          DRY CREEK              96\n",
       "2           MILE END              77\n",
       "3          PARALOWIE              96\n",
       "4       MOUNT BARKER             192"
      ]
     },
     "execution_count": 24,
     "metadata": {},
     "output_type": "execute_result"
    }
   ],
   "source": [
    "# create dataframe with the variables needed for mapping\n",
    "\n",
    "data_to_plot = suburb_rec[['crash_suburb', 'sum_casualties']]\n",
    "data_to_plot.head()"
   ]
  },
  {
   "cell_type": "code",
   "execution_count": 25,
   "id": "32f83794-80ad-42b0-98f9-7b27a725cb78",
   "metadata": {
    "scrolled": true
   },
   "outputs": [
    {
     "data": {
      "text/plain": [
       "<folium.map.LayerControl at 0x14d6e7a70>"
      ]
     },
     "execution_count": 25,
     "metadata": {},
     "output_type": "execute_result"
    }
   ],
   "source": [
    "# create folium map at a high-level zoom\n",
    "\n",
    "map = folium.Map(location = [100, 0], zoom_start = 1.5)\n",
    "\n",
    "folium.Choropleth(\n",
    "    geo_data = suburbs_file, \n",
    "    data = data_to_plot,\n",
    "    columns = ['crash_suburb','sum_casualties'],\n",
    "    key_on = 'feature.properties.suburb',\n",
    "    fill_color = 'YlOrBr', fill_opacity=0.6, line_opacity=0.1,\n",
    "    legend_name = \"Total Casualties\").add_to(map)\n",
    "folium.LayerControl().add_to(map)\n",
    "\n",
    "#map"
   ]
  },
  {
   "cell_type": "code",
   "execution_count": 26,
   "id": "a0697be7-3070-4180-833d-fe70e5a691d4",
   "metadata": {},
   "outputs": [],
   "source": [
    "# save the map\n",
    "\n",
    "#map.save('casualties_per_suburb.html')"
   ]
  }
 ],
 "metadata": {
  "kernelspec": {
   "display_name": "Python 3 (ipykernel)",
   "language": "python",
   "name": "python3"
  },
  "language_info": {
   "codemirror_mode": {
    "name": "ipython",
    "version": 3
   },
   "file_extension": ".py",
   "mimetype": "text/x-python",
   "name": "python",
   "nbconvert_exporter": "python",
   "pygments_lexer": "ipython3",
   "version": "3.12.4"
  }
 },
 "nbformat": 4,
 "nbformat_minor": 5
}
